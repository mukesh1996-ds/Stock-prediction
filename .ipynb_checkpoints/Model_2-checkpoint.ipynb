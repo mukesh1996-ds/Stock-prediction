{
 "cells": [
  {
   "cell_type": "code",
   "execution_count": 1,
   "metadata": {
    "id": "nMj0HTAMOiAu"
   },
   "outputs": [],
   "source": [
    "# Loading all the depencencise\n",
    "import pandas as pd\n",
    "import numpy as np\n",
    "from sklearn.model_selection import train_test_split\n",
    "from sklearn.linear_model import LinearRegression, Ridge, RidgeCV, Lasso, LassoCV\n",
    "from sklearn import metrics\n",
    "import matplotlib.pyplot as plt\n",
    "from matplotlib import style\n",
    "plt.style.use('bmh')\n",
    "\n"
   ]
  },
  {
   "cell_type": "code",
   "execution_count": 2,
   "metadata": {
    "id": "OVHxeZ7TOuGL"
   },
   "outputs": [],
   "source": [
    "style.use('ggplot')"
   ]
  },
  {
   "cell_type": "code",
   "execution_count": 11,
   "metadata": {
    "colab": {
     "base_uri": "https://localhost:8080/",
     "height": 206
    },
    "id": "ZUfXfakgOwnD",
    "outputId": "edd12680-f3ce-4cb1-da0c-8647c28d0ab7"
   },
   "outputs": [
    {
     "data": {
      "text/html": [
       "<div>\n",
       "<style scoped>\n",
       "    .dataframe tbody tr th:only-of-type {\n",
       "        vertical-align: middle;\n",
       "    }\n",
       "\n",
       "    .dataframe tbody tr th {\n",
       "        vertical-align: top;\n",
       "    }\n",
       "\n",
       "    .dataframe thead th {\n",
       "        text-align: right;\n",
       "    }\n",
       "</style>\n",
       "<table border=\"1\" class=\"dataframe\">\n",
       "  <thead>\n",
       "    <tr style=\"text-align: right;\">\n",
       "      <th></th>\n",
       "      <th>Date</th>\n",
       "      <th>Open</th>\n",
       "      <th>High</th>\n",
       "      <th>Low</th>\n",
       "      <th>Close</th>\n",
       "      <th>Adj Close</th>\n",
       "      <th>Volume</th>\n",
       "    </tr>\n",
       "  </thead>\n",
       "  <tbody>\n",
       "    <tr>\n",
       "      <th>0</th>\n",
       "      <td>2016-01-04</td>\n",
       "      <td>4897.649902</td>\n",
       "      <td>4903.089844</td>\n",
       "      <td>4846.979980</td>\n",
       "      <td>4903.089844</td>\n",
       "      <td>4903.089844</td>\n",
       "      <td>2218420000</td>\n",
       "    </tr>\n",
       "    <tr>\n",
       "      <th>1</th>\n",
       "      <td>2016-01-05</td>\n",
       "      <td>4917.839844</td>\n",
       "      <td>4926.729980</td>\n",
       "      <td>4872.740234</td>\n",
       "      <td>4891.430176</td>\n",
       "      <td>4891.430176</td>\n",
       "      <td>1927380000</td>\n",
       "    </tr>\n",
       "    <tr>\n",
       "      <th>2</th>\n",
       "      <td>2016-01-06</td>\n",
       "      <td>4813.759766</td>\n",
       "      <td>4866.040039</td>\n",
       "      <td>4804.689941</td>\n",
       "      <td>4835.759766</td>\n",
       "      <td>4835.759766</td>\n",
       "      <td>2168620000</td>\n",
       "    </tr>\n",
       "    <tr>\n",
       "      <th>3</th>\n",
       "      <td>2016-01-07</td>\n",
       "      <td>4736.399902</td>\n",
       "      <td>4788.020020</td>\n",
       "      <td>4688.169922</td>\n",
       "      <td>4689.430176</td>\n",
       "      <td>4689.430176</td>\n",
       "      <td>2552590000</td>\n",
       "    </tr>\n",
       "    <tr>\n",
       "      <th>4</th>\n",
       "      <td>2016-01-08</td>\n",
       "      <td>4722.020020</td>\n",
       "      <td>4742.569824</td>\n",
       "      <td>4637.850098</td>\n",
       "      <td>4643.629883</td>\n",
       "      <td>4643.629883</td>\n",
       "      <td>2288750000</td>\n",
       "    </tr>\n",
       "  </tbody>\n",
       "</table>\n",
       "</div>"
      ],
      "text/plain": [
       "         Date         Open         High          Low        Close  \\\n",
       "0  2016-01-04  4897.649902  4903.089844  4846.979980  4903.089844   \n",
       "1  2016-01-05  4917.839844  4926.729980  4872.740234  4891.430176   \n",
       "2  2016-01-06  4813.759766  4866.040039  4804.689941  4835.759766   \n",
       "3  2016-01-07  4736.399902  4788.020020  4688.169922  4689.430176   \n",
       "4  2016-01-08  4722.020020  4742.569824  4637.850098  4643.629883   \n",
       "\n",
       "     Adj Close      Volume  \n",
       "0  4903.089844  2218420000  \n",
       "1  4891.430176  1927380000  \n",
       "2  4835.759766  2168620000  \n",
       "3  4689.430176  2552590000  \n",
       "4  4643.629883  2288750000  "
      ]
     },
     "execution_count": 11,
     "metadata": {},
     "output_type": "execute_result"
    }
   ],
   "source": [
    "training_data = pd.read_csv('NASDAQ Training Data - 1st Jan 2016 to 1st Jan 2022.csv')\n",
    "training_data.head()\n",
    "testing_data = pd.read_csv('NASDAQ Out of Time Data - 1st Jan 2022 to 4th Feb 2022.csv')\n",
    "training_data.head()"
   ]
  },
  {
   "cell_type": "code",
   "execution_count": 12,
   "metadata": {
    "colab": {
     "base_uri": "https://localhost:8080/"
    },
    "id": "0dw0zt8xPFdJ",
    "outputId": "9ebc3145-4516-4099-8be0-993d45e181bf"
   },
   "outputs": [
    {
     "data": {
      "text/plain": [
       "Date         0\n",
       "Open         0\n",
       "High         0\n",
       "Low          0\n",
       "Close        0\n",
       "Adj Close    0\n",
       "Volume       0\n",
       "dtype: int64"
      ]
     },
     "execution_count": 12,
     "metadata": {},
     "output_type": "execute_result"
    }
   ],
   "source": [
    "# Checking the null values\n",
    "training_data.isnull().sum()\n",
    "testing_data.isnull().sum()"
   ]
  },
  {
   "cell_type": "code",
   "execution_count": 13,
   "metadata": {
    "id": "cWD9ndZjPJXS"
   },
   "outputs": [],
   "source": [
    "# According to the description we will only consider the required column and delete the unrequired column.\n",
    "\n",
    "training_data.drop(['Date', 'Adj Close'], axis = 1, inplace = True)\n"
   ]
  },
  {
   "cell_type": "code",
   "execution_count": 14,
   "metadata": {
    "id": "i34WugYHPMF-"
   },
   "outputs": [],
   "source": [
    "testing_data.drop(['Date', 'Adj Close'], axis = 1, inplace = True)"
   ]
  },
  {
   "cell_type": "code",
   "execution_count": 15,
   "metadata": {
    "colab": {
     "base_uri": "https://localhost:8080/"
    },
    "id": "YN3SQLyMPPQp",
    "outputId": "3184b764-8523-45d4-b0ea-c8eabe03c6a5"
   },
   "outputs": [
    {
     "name": "stdout",
     "output_type": "stream",
     "text": [
      "[[4.90308984e+03 4.89764990e+03 4.84697998e+03 2.21842000e+09]\n",
      " [4.92672998e+03 4.91783984e+03 4.87274023e+03 1.92738000e+09]\n",
      " [4.86604004e+03 4.81375977e+03 4.80468994e+03 2.16862000e+09]\n",
      " ...\n",
      " [1.29733301e+04 1.29653896e+04 1.28219600e+04 4.68078000e+09]\n",
      " [1.29249297e+04 1.29065098e+04 1.28577598e+04 5.29221000e+09]\n",
      " [1.29020703e+04 1.28770898e+04 1.28212305e+04 4.77139000e+09]]\n",
      "[[ 4903.089844]\n",
      " [ 4891.430176]\n",
      " [ 4835.759766]\n",
      " ...\n",
      " [12850.219727]\n",
      " [12870.      ]\n",
      " [12888.280273]]\n"
     ]
    }
   ],
   "source": [
    "x = training_data[['High', 'Open', 'Low', 'Volume']].values\n",
    "print(x)\n",
    "y = training_data[['Close']].values\n",
    "print(y)"
   ]
  },
  {
   "cell_type": "code",
   "execution_count": 16,
   "metadata": {
    "id": "6qcmOwZfPSJ1"
   },
   "outputs": [],
   "source": [
    "# To bulid a model we also need to split the training_data\n",
    "x_train,x_test,y_train,y_test = train_test_split(x,y, test_size = 0.2, random_state = 42) "
   ]
  },
  {
   "cell_type": "code",
   "execution_count": 17,
   "metadata": {
    "colab": {
     "base_uri": "https://localhost:8080/"
    },
    "id": "DH6xDtXtPVUy",
    "outputId": "5c21cf22-b494-420e-fce3-4af666f8921f"
   },
   "outputs": [
    {
     "data": {
      "text/plain": [
       "LinearRegression()"
      ]
     },
     "execution_count": 17,
     "metadata": {},
     "output_type": "execute_result"
    }
   ],
   "source": [
    "linear_regrssion = LinearRegression()\n",
    "linear_regrssion.fit(x_train, y_train)"
   ]
  },
  {
   "cell_type": "code",
   "execution_count": 18,
   "metadata": {
    "colab": {
     "base_uri": "https://localhost:8080/"
    },
    "id": "9ghPlYo1PX7m",
    "outputId": "9c103118-d748-468b-96ff-402b68de439d"
   },
   "outputs": [
    {
     "name": "stdout",
     "output_type": "stream",
     "text": [
      "[[ 4897.9714087 ]\n",
      " [ 9174.32111603]\n",
      " [ 4712.42589584]\n",
      " [ 7945.13013727]\n",
      " [ 6852.1626585 ]\n",
      " [ 4927.8332107 ]\n",
      " [ 8033.37444411]\n",
      " [11763.6748318 ]\n",
      " [ 7401.72900542]\n",
      " [ 6584.11161899]\n",
      " [ 4856.91764048]\n",
      " [ 7863.62728838]\n",
      " [ 6154.0217151 ]\n",
      " [ 7417.2787959 ]\n",
      " [ 7868.33974192]\n",
      " [ 8069.12737841]\n",
      " [ 6334.33167537]\n",
      " [ 7953.98197445]\n",
      " [ 6193.49027703]\n",
      " [ 7546.66339065]\n",
      " [ 8114.12435319]\n",
      " [ 7281.40658584]\n",
      " [ 7676.77207481]\n",
      " [ 7847.6289595 ]\n",
      " [10700.55442184]\n",
      " [ 7399.43709096]\n",
      " [ 5485.38178485]\n",
      " [ 4757.78480344]\n",
      " [ 7109.50516106]\n",
      " [ 5832.61979473]\n",
      " [ 6234.94587656]\n",
      " [ 8273.28160555]\n",
      " [ 8036.08784706]\n",
      " [ 7094.33391765]\n",
      " [ 6974.25386215]\n",
      " [ 7485.95835042]\n",
      " [ 8026.4502784 ]\n",
      " [ 9054.98369079]\n",
      " [ 7621.6224295 ]\n",
      " [ 7727.95976223]\n",
      " [ 7737.29414855]\n",
      " [ 5295.53782725]\n",
      " [ 6363.29980317]\n",
      " [ 5543.71631969]\n",
      " [ 8779.28310609]\n",
      " [ 4891.62101649]\n",
      " [ 6442.40292571]\n",
      " [ 6488.64783291]\n",
      " [ 5904.90038737]\n",
      " [ 5662.06854029]\n",
      " [11595.80011747]\n",
      " [ 7280.82220824]\n",
      " [ 4771.25011388]\n",
      " [ 8815.83524936]\n",
      " [ 7132.29984897]\n",
      " [12867.78934769]\n",
      " [11253.50541989]\n",
      " [ 6204.11182257]\n",
      " [ 9445.28691498]\n",
      " [ 7892.68653929]\n",
      " [ 4384.52821615]\n",
      " [ 5134.30189157]\n",
      " [ 6176.00054215]\n",
      " [ 8698.03682521]\n",
      " [ 7787.54533477]\n",
      " [ 6256.44512574]\n",
      " [ 6292.73802797]\n",
      " [12861.59957683]\n",
      " [ 4829.43952044]\n",
      " [ 7424.07922338]\n",
      " [ 5235.17579308]\n",
      " [ 7133.35214734]\n",
      " [ 7226.58476784]\n",
      " [ 6959.08059968]\n",
      " [ 4720.02721632]\n",
      " [ 5198.97558972]\n",
      " [ 7926.18645292]\n",
      " [ 6126.55234106]\n",
      " [ 5241.51252919]\n",
      " [ 5260.74749796]\n",
      " [ 9689.05120981]\n",
      " [ 6196.53240783]\n",
      " [ 7012.54208379]\n",
      " [ 7695.48116397]\n",
      " [ 7969.92031103]\n",
      " [ 5444.54871411]\n",
      " [ 7832.68815847]\n",
      " [11563.59330238]\n",
      " [ 7544.22620612]\n",
      " [ 6279.57746558]\n",
      " [ 7547.10088533]\n",
      " [ 7928.26777811]\n",
      " [ 8579.75109092]\n",
      " [11126.16131606]\n",
      " [ 8460.21330896]\n",
      " [ 7235.82905314]\n",
      " [ 8113.82593545]\n",
      " [ 7669.07104571]\n",
      " [ 8146.9990368 ]\n",
      " [ 6886.69482003]\n",
      " [ 4666.43192084]\n",
      " [ 8502.28443679]\n",
      " [ 5673.51645236]\n",
      " [ 4413.20081761]\n",
      " [ 4498.19689114]\n",
      " [ 7138.84995639]\n",
      " [12313.04177094]\n",
      " [ 6435.70661724]\n",
      " [ 5206.37308764]\n",
      " [ 4720.84176703]\n",
      " [ 5842.34903609]\n",
      " [ 6452.92773956]\n",
      " [ 6709.5306914 ]\n",
      " [ 5266.40080182]\n",
      " [ 5276.27851071]\n",
      " [ 4778.43100972]\n",
      " [ 5224.25273299]\n",
      " [ 6446.84917467]\n",
      " [12522.5358051 ]\n",
      " [ 5192.66730019]\n",
      " [ 5304.86954119]\n",
      " [ 8520.42832431]\n",
      " [ 7365.83535347]\n",
      " [ 4875.16625839]\n",
      " [ 7075.47947028]\n",
      " [ 8022.28637982]\n",
      " [ 8160.88996178]\n",
      " [ 4947.22513686]\n",
      " [ 8944.56355579]\n",
      " [ 4847.23319327]\n",
      " [ 5853.57590931]\n",
      " [11474.74177622]\n",
      " [12739.53754218]\n",
      " [ 7498.70091091]\n",
      " [ 4969.36384371]\n",
      " [ 9640.66888485]\n",
      " [ 8924.24463306]\n",
      " [ 7888.90220683]\n",
      " [10848.90892066]\n",
      " [ 5209.08166034]\n",
      " [ 9066.38560602]\n",
      " [10439.49987675]\n",
      " [ 9947.28917534]\n",
      " [ 9238.77152284]\n",
      " [10040.83250736]\n",
      " [ 7465.16950074]\n",
      " [ 7909.62376425]\n",
      " [ 6365.92951024]\n",
      " [ 6780.2174448 ]\n",
      " [ 7127.37102631]\n",
      " [ 6867.67336551]\n",
      " [ 5863.92377664]\n",
      " [11884.22598805]\n",
      " [ 4825.98429569]\n",
      " [ 7371.03512652]\n",
      " [ 6973.64983814]\n",
      " [ 4762.18594542]\n",
      " [ 4953.48683556]\n",
      " [ 8116.14359713]\n",
      " [ 7545.18224443]\n",
      " [ 5848.35231033]\n",
      " [ 9547.01608808]\n",
      " [ 8330.19047761]\n",
      " [ 8110.974455  ]\n",
      " [ 5515.01735872]\n",
      " [ 7406.34485961]\n",
      " [ 6153.37602875]\n",
      " [ 6665.46499329]\n",
      " [ 8000.85108116]\n",
      " [ 5828.31654654]\n",
      " [ 9629.79841937]\n",
      " [ 9487.41243979]\n",
      " [ 9683.64441054]\n",
      " [ 7407.50878622]\n",
      " [ 7452.22402137]\n",
      " [12085.53635271]\n",
      " [ 7164.71415072]\n",
      " [ 7913.02443855]\n",
      " [ 8568.70865223]\n",
      " [ 8538.45610177]\n",
      " [ 7656.11527144]\n",
      " [ 5261.5743478 ]\n",
      " [ 5857.14537237]\n",
      " [ 8497.16283202]\n",
      " [ 7113.42352552]\n",
      " [10718.24513827]\n",
      " [ 7831.1343138 ]\n",
      " [ 8013.94854959]\n",
      " [ 7735.83066674]\n",
      " [ 7034.00706773]\n",
      " [11253.95426271]\n",
      " [ 9387.15275582]\n",
      " [ 8144.59562458]\n",
      " [ 5833.21289831]\n",
      " [ 6149.75340721]\n",
      " [ 7671.56280148]\n",
      " [ 6256.45894675]\n",
      " [ 4460.09527861]\n",
      " [ 5152.18139019]\n",
      " [ 7701.87161019]\n",
      " [11437.11710411]\n",
      " [ 8225.01771944]\n",
      " [ 5981.93054069]\n",
      " [ 6112.8207277 ]\n",
      " [ 5460.05639851]\n",
      " [ 8658.1603069 ]\n",
      " [ 6743.78410989]\n",
      " [ 7741.26266319]\n",
      " [ 7796.79267572]\n",
      " [ 5905.18435567]\n",
      " [ 5852.38477597]\n",
      " [ 7705.66975651]\n",
      " [ 8025.32057759]\n",
      " [ 7154.06479104]\n",
      " [ 7910.8324565 ]\n",
      " [ 5055.56746902]\n",
      " [ 6061.29542465]\n",
      " [ 8484.32151311]\n",
      " [11239.50199082]\n",
      " [ 6207.42626858]\n",
      " [ 6431.30801419]\n",
      " [ 6180.74069975]\n",
      " [12768.98833921]\n",
      " [ 5237.42050248]\n",
      " [ 5089.46204906]\n",
      " [ 7113.5656076 ]\n",
      " [10559.54395405]\n",
      " [ 8414.05549672]\n",
      " [ 8021.60428101]\n",
      " [ 8875.3939316 ]\n",
      " [ 7187.40316608]\n",
      " [ 5814.24275702]\n",
      " [ 4852.80089161]\n",
      " [ 8195.50305438]\n",
      " [ 7069.89226359]\n",
      " [ 7495.88554518]\n",
      " [ 6998.24977229]\n",
      " [ 5486.18278075]\n",
      " [ 7285.33159923]\n",
      " [ 4773.05532025]\n",
      " [ 5265.79461764]\n",
      " [10690.47035882]\n",
      " [ 7318.45287461]\n",
      " [ 5222.81209085]\n",
      " [ 6881.15575163]\n",
      " [ 6353.87654406]\n",
      " [ 5291.32626799]\n",
      " [ 6459.77039947]\n",
      " [ 4497.9020947 ]\n",
      " [ 5232.43269037]\n",
      " [ 6142.23077504]\n",
      " [ 7795.65634865]]\n"
     ]
    }
   ],
   "source": [
    "y_pred = linear_regrssion.predict(x_test)\n",
    "print(y_pred)"
   ]
  },
  {
   "cell_type": "code",
   "execution_count": 19,
   "metadata": {
    "colab": {
     "base_uri": "https://localhost:8080/"
    },
    "id": "mxoqZ59dPZwe",
    "outputId": "9580c6cd-b65f-4208-8f34-677e82157a76"
   },
   "outputs": [
    {
     "data": {
      "text/plain": [
       "array([-3.62922557])"
      ]
     },
     "execution_count": 19,
     "metadata": {},
     "output_type": "execute_result"
    }
   ],
   "source": [
    "linear_regrssion.intercept_"
   ]
  },
  {
   "cell_type": "code",
   "execution_count": 20,
   "metadata": {
    "colab": {
     "base_uri": "https://localhost:8080/"
    },
    "id": "IyDf6OvJPeFF",
    "outputId": "fc3c98e2-2477-4dfa-b65b-141025a1f756"
   },
   "outputs": [
    {
     "data": {
      "text/plain": [
       "array([[ 8.41420488e-01, -6.06660889e-01,  7.66063724e-01,\n",
       "        -1.44669721e-10]])"
      ]
     },
     "execution_count": 20,
     "metadata": {},
     "output_type": "execute_result"
    }
   ],
   "source": [
    "linear_regrssion.coef_"
   ]
  },
  {
   "cell_type": "code",
   "execution_count": 21,
   "metadata": {
    "colab": {
     "base_uri": "https://localhost:8080/"
    },
    "id": "_tzgtik-PgTT",
    "outputId": "33a1186c-6146-4cb7-e8a9-8c1974160af3"
   },
   "outputs": [
    {
     "name": "stdout",
     "output_type": "stream",
     "text": [
      "[[45405.43517629]]\n"
     ]
    }
   ],
   "source": [
    "# predict new data\n",
    "new_output = linear_regrssion.predict([[46311.746094\t,47827.312500\t,46288.484375, 24582667004]])\n",
    "print(new_output)"
   ]
  },
  {
   "cell_type": "code",
   "execution_count": 22,
   "metadata": {
    "id": "meS6uEh3PiM5"
   },
   "outputs": [],
   "source": [
    "# Dumping the linear model\n",
    "import pickle as pkl\n",
    "linear_model_NAS = pkl.dump(linear_regrssion, open('linear_model_NAS.pkl', 'wb'))"
   ]
  },
  {
   "cell_type": "code",
   "execution_count": 23,
   "metadata": {
    "colab": {
     "base_uri": "https://localhost:8080/"
    },
    "id": "kAepHj_mPo-v",
    "outputId": "94caf3df-791a-4400-c117-a18d98049e95"
   },
   "outputs": [
    {
     "name": "stdout",
     "output_type": "stream",
     "text": [
      "the resulted value is  [[45405.44]]\n"
     ]
    }
   ],
   "source": [
    "# Opening the pickle file and predicting the value\n",
    "model = pkl.load(open('linear_model_NAS.pkl', 'rb'))\n",
    "result = model.predict([[ 46311.746094\t,47827.312500\t,46288.484375, 24582667004]])\n",
    "print('the resulted value is ', result.round(2))"
   ]
  },
  {
   "cell_type": "code",
   "execution_count": 25,
   "metadata": {
    "id": "FfpqeVYTPsJU"
   },
   "outputs": [
    {
     "data": {
      "text/plain": [
       "DecisionTreeRegressor(random_state=42)"
      ]
     },
     "execution_count": 25,
     "metadata": {},
     "output_type": "execute_result"
    }
   ],
   "source": [
    "from sklearn.tree import DecisionTreeRegressor \n",
    "regressor = DecisionTreeRegressor(random_state = 42)\n",
    "regressor.fit(x_train, y_train)"
   ]
  },
  {
   "cell_type": "code",
   "execution_count": 26,
   "metadata": {},
   "outputs": [
    {
     "data": {
      "text/plain": [
       "array([12850.219727])"
      ]
     },
     "execution_count": 26,
     "metadata": {},
     "output_type": "execute_result"
    }
   ],
   "source": [
    "y_pred = regressor.predict([[46311.746094,47827.312500,46288.484375,24582667004]])\n",
    "y_pred"
   ]
  },
  {
   "cell_type": "code",
   "execution_count": 27,
   "metadata": {},
   "outputs": [],
   "source": [
    "decision_tree_model_2 = pkl.dump(regressor, open('decision_tree_model_2.pkl', 'wb'))"
   ]
  },
  {
   "cell_type": "code",
   "execution_count": 28,
   "metadata": {},
   "outputs": [
    {
     "name": "stdout",
     "output_type": "stream",
     "text": [
      "the resulted value is  [45585.03]\n"
     ]
    }
   ],
   "source": [
    "model = pkl.load(open('decision_tree_model_1.pkl', 'rb'))\n",
    "result = model.predict([[ 46311.746094,47827.312500,46288.484375, 24582667004]])\n",
    "print('the resulted value is ', result.round(2))"
   ]
  },
  {
   "cell_type": "code",
   "execution_count": null,
   "metadata": {},
   "outputs": [],
   "source": []
  }
 ],
 "metadata": {
  "colab": {
   "collapsed_sections": [],
   "name": "Stock market prediction -NASDAQ Data",
   "provenance": []
  },
  "kernelspec": {
   "display_name": "Python 3",
   "language": "python",
   "name": "python3"
  },
  "language_info": {
   "codemirror_mode": {
    "name": "ipython",
    "version": 3
   },
   "file_extension": ".py",
   "mimetype": "text/x-python",
   "name": "python",
   "nbconvert_exporter": "python",
   "pygments_lexer": "ipython3",
   "version": "3.8.8"
  }
 },
 "nbformat": 4,
 "nbformat_minor": 1
}
